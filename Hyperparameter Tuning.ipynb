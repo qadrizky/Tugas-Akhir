{
 "cells": [
  {
   "cell_type": "code",
   "execution_count": 1,
   "metadata": {
    "id": "2tPQeKhQizxd"
   },
   "outputs": [
    {
     "name": "stderr",
     "output_type": "stream",
     "text": [
      "2024-12-24 18:41:48.471024: I tensorflow/core/util/port.cc:111] oneDNN custom operations are on. You may see slightly different numerical results due to floating-point round-off errors from different computation orders. To turn them off, set the environment variable `TF_ENABLE_ONEDNN_OPTS=0`.\n",
      "2024-12-24 18:41:48.493233: E tensorflow/compiler/xla/stream_executor/cuda/cuda_dnn.cc:9342] Unable to register cuDNN factory: Attempting to register factory for plugin cuDNN when one has already been registered\n",
      "2024-12-24 18:41:48.493250: E tensorflow/compiler/xla/stream_executor/cuda/cuda_fft.cc:609] Unable to register cuFFT factory: Attempting to register factory for plugin cuFFT when one has already been registered\n",
      "2024-12-24 18:41:48.493273: E tensorflow/compiler/xla/stream_executor/cuda/cuda_blas.cc:1518] Unable to register cuBLAS factory: Attempting to register factory for plugin cuBLAS when one has already been registered\n",
      "2024-12-24 18:41:48.498220: I tensorflow/core/platform/cpu_feature_guard.cc:182] This TensorFlow binary is optimized to use available CPU instructions in performance-critical operations.\n",
      "To enable the following instructions: AVX2 AVX512F AVX512_VNNI AVX512_BF16 FMA, in other operations, rebuild TensorFlow with the appropriate compiler flags.\n"
     ]
    }
   ],
   "source": [
    "import os\n",
    "import tensorflow as tf\n",
    "from tensorflow.keras.regularizers import l2\n",
    "from tensorflow.keras.preprocessing.image import ImageDataGenerator, load_img\n",
    "from tensorflow.keras.applications import MobileNetV3Large\n",
    "from tensorflow.keras import Sequential\n",
    "from tensorflow.keras.optimizers import Adam, SGD, RMSprop\n",
    "from tensorflow.keras.callbacks import ReduceLROnPlateau, ModelCheckpoint, EarlyStopping\n",
    "from tensorflow.keras.metrics import Precision, Recall, BinaryAccuracy, F1Score\n",
    "from tensorflow.keras.losses import KLDivergence, BinaryCrossentropy\n",
    "import matplotlib.pyplot as plt\n",
    "from tensorflow.keras.layers import Input, Dense, Dropout, GlobalAveragePooling2D, Flatten, MaxPooling2D, Conv2D, BatchNormalization, Activation\n",
    "from sklearn.metrics import confusion_matrix, classification_report, ConfusionMatrixDisplay\n",
    "from sklearn.model_selection import GridSearchCV\n",
    "import seaborn as sns\n",
    "import numpy as np\n",
    "import scipy\n",
    "from PIL import Image\n",
    "import warnings\n",
    "warnings.catch_warnings\n",
    "import cv2 as cv\n",
    "from scipy import stats\n",
    "from tqdm import tqdm\n",
    "import shutil\n",
    "import time"
   ]
  },
  {
   "cell_type": "markdown",
   "metadata": {
    "id": "Xb47vJ5QVU1S"
   },
   "source": [
    "# Load Dataset (Melanoma)"
   ]
  },
  {
   "cell_type": "code",
   "execution_count": 2,
   "metadata": {
    "colab": {
     "base_uri": "https://localhost:8080/"
    },
    "id": "UDQ9OjQLi9sW",
    "outputId": "7d63a3e3-c5ff-4d55-e7a1-276e4f3e6eed"
   },
   "outputs": [],
   "source": [
    "# # Importing required libraries\n",
    "# import kagglehub\n",
    "\n",
    "# # Downloading the dataset\n",
    "# path = kagglehub.dataset_download(\"drscarlat/melanoma\")\n",
    "# print(\"Path to dataset files:\", path)\n",
    "\n",
    "# # Moving dataset to the current directory\n",
    "# destination_dir = '.'  # Current directory\n",
    "\n",
    "# for item in os.listdir(path):\n",
    "#     source_path = os.path.join(path, item)\n",
    "#     destination_path = os.path.join(destination_dir, item)\n",
    "\n",
    "#     if os.path.isfile(source_path):\n",
    "#         shutil.move(source_path, destination_path)\n",
    "#     elif os.path.isdir(source_path):\n",
    "#         shutil.move(source_path, destination_path)\n",
    "\n",
    "# print(\"Dataset files moved to the current directory.\")"
   ]
  },
  {
   "cell_type": "markdown",
   "metadata": {
    "id": "1ZunHHvmVgbj"
   },
   "source": [
    "# Dataset"
   ]
  },
  {
   "cell_type": "code",
   "execution_count": 3,
   "metadata": {
    "id": "6RWfIiVb4Fu7"
   },
   "outputs": [],
   "source": [
    "# Basic config\n",
    "BATCH_SIZE = 32\n",
    "IMG_SIZE = 224\n",
    "EPOCHS = 10"
   ]
  },
  {
   "cell_type": "code",
   "execution_count": 4,
   "metadata": {
    "id": "Vzki1IeY4Fu7"
   },
   "outputs": [],
   "source": [
    "train_path = './dermmel/DermMel/train_sep'\n",
    "val_path = './dermmel/DermMel/valid'\n",
    "test_path = './dermmel/DermMel/test'"
   ]
  },
  {
   "cell_type": "code",
   "execution_count": 5,
   "metadata": {
    "colab": {
     "base_uri": "https://localhost:8080/"
    },
    "id": "vu4vJF_zcI3B",
    "outputId": "00eaabf1-186b-43cf-cf14-5550ba30ce85"
   },
   "outputs": [
    {
     "data": {
      "text/plain": [
       "['NotMelanoma', 'Melanoma']"
      ]
     },
     "execution_count": 5,
     "metadata": {},
     "output_type": "execute_result"
    }
   ],
   "source": [
    "classes = [class_name for class_name in os.listdir(train_path)]\n",
    "classes"
   ]
  },
  {
   "cell_type": "markdown",
   "metadata": {
    "id": "ygQGbNlxbrXY"
   },
   "source": [
    "# Base"
   ]
  },
  {
   "cell_type": "code",
   "execution_count": 6,
   "metadata": {
    "colab": {
     "base_uri": "https://localhost:8080/"
    },
    "id": "_47KPjQAWQfi",
    "outputId": "9c0ad022-cbce-468f-d901-09a45d7a788b"
   },
   "outputs": [
    {
     "name": "stdout",
     "output_type": "stream",
     "text": [
      "Found 10682 images belonging to 2 classes.\n",
      "Found 10682 images belonging to 2 classes.\n",
      "Found 3562 images belonging to 2 classes.\n",
      "Found 3561 images belonging to 2 classes.\n"
     ]
    }
   ],
   "source": [
    "# ImageDataGenerators\n",
    "# Augmentation\n",
    "train_datagen_aug = ImageDataGenerator(\n",
    "    rotation_range = 35,\n",
    "    horizontal_flip = True,\n",
    "    vertical_flip = True,\n",
    "    width_shift_range = 0.3,\n",
    "    fill_mode = 'nearest',\n",
    "    )\n",
    "\n",
    "# No augmentation\n",
    "train_datagen = ImageDataGenerator()\n",
    "val_datagen = ImageDataGenerator()\n",
    "test_datagen = ImageDataGenerator()\n",
    "\n",
    "# Generators\n",
    "train_generator_aug = train_datagen_aug.flow_from_directory(\n",
    "    train_path,\n",
    "    target_size = (IMG_SIZE, IMG_SIZE),\n",
    "    batch_size = BATCH_SIZE,\n",
    "    class_mode = 'binary',\n",
    "    color_mode = 'rgb'\n",
    ")\n",
    "\n",
    "train_generator = train_datagen.flow_from_directory(\n",
    "    train_path,\n",
    "    target_size = (IMG_SIZE, IMG_SIZE),\n",
    "    batch_size = BATCH_SIZE,\n",
    "    class_mode = 'binary',\n",
    "    color_mode = 'rgb'\n",
    ")\n",
    "\n",
    "validation_generator = val_datagen.flow_from_directory(\n",
    "    val_path,\n",
    "    target_size = (IMG_SIZE, IMG_SIZE),\n",
    "    batch_size = BATCH_SIZE,\n",
    "    class_mode = 'binary',\n",
    "    color_mode = 'rgb',\n",
    ")\n",
    "\n",
    "test_generator = test_datagen.flow_from_directory(\n",
    "    test_path,\n",
    "    target_size = (IMG_SIZE, IMG_SIZE),\n",
    "    batch_size = BATCH_SIZE,\n",
    "    class_mode = 'binary',\n",
    "    color_mode = 'rgb',\n",
    "    shuffle = False\n",
    ")"
   ]
  },
  {
   "cell_type": "code",
   "execution_count": 7,
   "metadata": {
    "id": "3GvJbdj4aUGz"
   },
   "outputs": [],
   "source": [
    "def evaluate_model(model, test_generator, classes, threshold=0.5):\n",
    "    # Predict labels for the test data\n",
    "    y_pred = model.predict(test_generator)\n",
    "    # Binarize predictions based on threshold\n",
    "    y_pred = (y_pred > threshold).astype(int)\n",
    "    # Get true labels from the test generator\n",
    "    y_true = test_generator.classes\n",
    "\n",
    "    # Generate confusion matrix\n",
    "    cm = confusion_matrix(y_true, y_pred)\n",
    "    print(\"Confusion Matrix:\")\n",
    "    print(cm)\n",
    "\n",
    "    # Display the confusion matrix\n",
    "    disp = ConfusionMatrixDisplay(confusion_matrix=cm, display_labels=classes)\n",
    "    disp.plot(cmap=plt.cm.Blues)\n",
    "    plt.show()\n",
    "\n",
    "    # Display classification report\n",
    "    print(\"Classification Report:\")\n",
    "    print(classification_report(y_true, y_pred, target_names=classes, digits=4))"
   ]
  },
  {
   "cell_type": "code",
   "execution_count": 8,
   "metadata": {
    "id": "nlK40OnyavEM"
   },
   "outputs": [],
   "source": [
    "def plot_training_history(history):\n",
    "    \"\"\"\n",
    "    Plots the training and validation accuracy and loss over epochs.\n",
    "\n",
    "    Parameters:\n",
    "    - history: The history object returned by the model's fit method.\n",
    "    \"\"\"\n",
    "    plt.figure(figsize=(12, 4))\n",
    "\n",
    "    # Plot training and validation accuracy\n",
    "    plt.subplot(1, 2, 1)\n",
    "    plt.plot(history.history['accuracy'], label='Training Accuracy')\n",
    "    plt.plot(history.history['val_accuracy'], label='Validation Accuracy')\n",
    "    plt.title('Training and Validation Accuracy')\n",
    "    plt.xlabel('Epoch')\n",
    "    plt.ylabel('Accuracy')\n",
    "    plt.legend()\n",
    "\n",
    "    # Plot training and validation loss\n",
    "    plt.subplot(1, 2, 2)\n",
    "    plt.plot(history.history['loss'], label='Training Loss')\n",
    "    plt.plot(history.history['val_loss'], label='Validation Loss')\n",
    "    plt.title('Training and Validation Loss')\n",
    "    plt.xlabel('Epoch')\n",
    "    plt.ylabel('Loss')\n",
    "    plt.legend()\n",
    "\n",
    "    plt.tight_layout()\n",
    "    plt.show()"
   ]
  },
  {
   "cell_type": "code",
   "execution_count": 9,
   "metadata": {
    "id": "QtVFcDO3d9SK"
   },
   "outputs": [],
   "source": [
    "class CustomF1Score(F1Score):\n",
    "    def __init__(self, name=\"f1_score\", dtype=None):\n",
    "        super(F1Score, self).__init__(name=name, dtype=dtype)\n",
    "        self.true_positives = self.add_weight(name=\"true_positives\", initializer=\"zeros\")\n",
    "        self.false_positives = self.add_weight(name=\"false_positives\", initializer=\"zeros\")\n",
    "        self.false_negatives = self.add_weight(name=\"false_negatives\", initializer=\"zeros\")\n",
    "\n",
    "    def update_state(self, y_true, y_pred, sample_weight=None):\n",
    "        # Convert predictions to binary based on a 0.5 threshold\n",
    "        y_pred = tf.cast(tf.greater(y_pred, 0.5), tf.float32)\n",
    "        y_true = tf.cast(y_true, tf.float32)\n",
    "\n",
    "        # Calculate true positives, false positives, and false negatives\n",
    "        true_positives = tf.reduce_sum(y_true * y_pred)\n",
    "        false_positives = tf.reduce_sum(y_pred * (1 - y_true))\n",
    "        false_negatives = tf.reduce_sum(y_true * (1 - y_pred))\n",
    "\n",
    "        # Update the state variables\n",
    "        self.true_positives.assign_add(true_positives)\n",
    "        self.false_positives.assign_add(false_positives)\n",
    "        self.false_negatives.assign_add(false_negatives)\n",
    "\n",
    "    def result(self):\n",
    "        precision = self.true_positives / (self.true_positives + self.false_positives + tf.keras.backend.epsilon())\n",
    "        recall = self.true_positives / (self.true_positives + self.false_negatives + tf.keras.backend.epsilon())\n",
    "        f1_score = 2 * (precision * recall) / (precision + recall + tf.keras.backend.epsilon())\n",
    "        return f1_score\n",
    "\n",
    "    def reset_state(self):\n",
    "        self.true_positives.assign(0)\n",
    "        self.false_positives.assign(0)\n",
    "        self.false_negatives.assign(0)"
   ]
  },
  {
   "cell_type": "code",
   "execution_count": 10,
   "metadata": {
    "id": "b3ohgQqMejtc"
   },
   "outputs": [],
   "source": [
    "import pandas as pd\n",
    "\n",
    "def save_training_history(history, filename):\n",
    "    \"\"\"Saves training history to a CSV file with the model name.\n",
    "\n",
    "    Args:\n",
    "        history: The training history object returned by model.fit().\n",
    "        filename: The name of the CSV file to save the history to.\n",
    "        model_name: The name of the model (string) to include in the CSV file.\n",
    "    \"\"\"\n",
    "    results_df = pd.DataFrame(history.history)\n",
    "    results_df.insert(0, 'epoch', range(1, len(results_df) + 1))  # Menambahkan kolom 'epoch'\n",
    "    results_df.to_csv(filename, index=False)"
   ]
  },
  {
   "cell_type": "markdown",
   "metadata": {
    "id": "d5pBbfnSaotd"
   },
   "source": [
    "# Tuning"
   ]
  },
  {
   "cell_type": "code",
   "execution_count": 11,
   "metadata": {
    "id": "YtzJU4tyc7C5"
   },
   "outputs": [],
   "source": [
    "def build_model(IMG_SIZE):\n",
    "    base_model = MobileNetV3Large(\n",
    "        input_shape=(IMG_SIZE, IMG_SIZE, 3),\n",
    "        include_top=False,\n",
    "        weights='imagenet',\n",
    "        include_preprocessing=True\n",
    "    )\n",
    "\n",
    "    base_model.trainable = True\n",
    "\n",
    "    model = Sequential([\n",
    "        Input(shape=(IMG_SIZE, IMG_SIZE, 3)),\n",
    "        base_model,\n",
    "        GlobalAveragePooling2D(),\n",
    "        Dense(1024, activation='relu', kernel_regularizer=l2(0.001)),\n",
    "        Dropout(0.5),\n",
    "        Dense(512, activation='relu', kernel_regularizer=l2(0.001)),\n",
    "        Dropout(0.3),\n",
    "        Dense(1, activation='sigmoid')\n",
    "    ])\n",
    "    return model"
   ]
  },
  {
   "cell_type": "code",
   "execution_count": 12,
   "metadata": {
    "id": "sZe0NcBPbmE3"
   },
   "outputs": [
    {
     "name": "stderr",
     "output_type": "stream",
     "text": [
      "2024-12-24 18:41:50.704194: I tensorflow/core/common_runtime/gpu/gpu_device.cc:1886] Created device /job:localhost/replica:0/task:0/device:GPU:0 with 22282 MB memory:  -> device: 0, name: NVIDIA GeForce RTX 4090, pci bus id: 0000:02:00.0, compute capability: 8.9\n"
     ]
    }
   ],
   "source": [
    "# Metrics\n",
    "metrics = [\n",
    "    BinaryAccuracy(name = 'accuracy'),\n",
    "    Precision(name = 'precision'),\n",
    "    Recall(name = 'recall'),\n",
    "    CustomF1Score(name = 'f1_score')\n",
    "]"
   ]
  },
  {
   "cell_type": "code",
   "execution_count": 13,
   "metadata": {
    "id": "Xxus4dHzbC-_"
   },
   "outputs": [],
   "source": [
    "learning_rates = [1e-3, 1e-4, 1e-5]\n",
    "optimizers = ['adam', 'sgd', 'rmsprop']"
   ]
  },
  {
   "cell_type": "code",
   "execution_count": 14,
   "metadata": {
    "id": "mArY5cqabF8E"
   },
   "outputs": [],
   "source": [
    "def get_callbacks():\n",
    "    lr_scheduler = ReduceLROnPlateau(monitor='val_loss', factor=0.5, patience=5, min_lr=1e-7, verbose=1)\n",
    "    early_stopping = EarlyStopping(monitor='val_loss', patience=5, verbose=1)\n",
    "    return [lr_scheduler, early_stopping]"
   ]
  },
  {
   "cell_type": "code",
   "execution_count": 15,
   "metadata": {
    "id": "lgFXjZe7arzG"
   },
   "outputs": [
    {
     "name": "stdout",
     "output_type": "stream",
     "text": [
      "\n",
      "Training dengan Optimizer: ADAM, Learning Rate: 0.001\n",
      "Downloading data from https://storage.googleapis.com/tensorflow/keras-applications/mobilenet_v3/weights_mobilenet_v3_large_224_1.0_float_no_top_v2.h5\n",
      "12683000/12683000 [==============================] - 1s 0us/step\n",
      "Epoch 1/10\n"
     ]
    },
    {
     "name": "stderr",
     "output_type": "stream",
     "text": [
      "2024-12-24 18:41:59.017067: I tensorflow/tsl/platform/default/subprocess.cc:304] Start cannot spawn child process: No such file or directory\n",
      "2024-12-24 18:41:59.051720: I tensorflow/compiler/xla/stream_executor/cuda/cuda_dnn.cc:442] Loaded cuDNN version 8905\n",
      "2024-12-24 18:41:59.104380: I tensorflow/tsl/platform/default/subprocess.cc:304] Start cannot spawn child process: No such file or directory\n",
      "2024-12-24 18:42:00.122656: I tensorflow/compiler/xla/service/service.cc:168] XLA service 0x9662110 initialized for platform CUDA (this does not guarantee that XLA will be used). Devices:\n",
      "2024-12-24 18:42:00.122674: I tensorflow/compiler/xla/service/service.cc:176]   StreamExecutor device (0): NVIDIA GeForce RTX 4090, Compute Capability 8.9\n",
      "2024-12-24 18:42:00.125103: I tensorflow/compiler/mlir/tensorflow/utils/dump_mlir_util.cc:269] disabling MLIR crash reproducer, set env var `MLIR_CRASH_REPRODUCER_DIRECTORY` to enable.\n",
      "2024-12-24 18:42:00.172688: I ./tensorflow/compiler/jit/device_compiler.h:186] Compiled cluster using XLA!  This line is logged at most once for the lifetime of the process.\n"
     ]
    },
    {
     "name": "stdout",
     "output_type": "stream",
     "text": [
      "333/333 [==============================] - 112s 300ms/step - loss: 0.8520 - accuracy: 0.9307 - precision: 0.8944 - recall: 0.9767 - f1_score: 0.9338 - val_loss: 14.7284 - val_accuracy: 0.6689 - val_precision: 0.6247 - val_recall: 0.8481 - val_f1_score: 0.7195 - lr: 0.0010\n",
      "Epoch 2/10\n",
      "333/333 [==============================] - 54s 163ms/step - loss: 0.2235 - accuracy: 0.9461 - precision: 0.9210 - recall: 0.9760 - f1_score: 0.9477 - val_loss: 5.7102 - val_accuracy: 0.6301 - val_precision: 0.5752 - val_recall: 0.9944 - val_f1_score: 0.7288 - lr: 0.0010\n",
      "Epoch 3/10\n",
      "333/333 [==============================] - 54s 163ms/step - loss: 0.1383 - accuracy: 0.9522 - precision: 0.9356 - recall: 0.9713 - f1_score: 0.9531 - val_loss: 2.9753 - val_accuracy: 0.5169 - val_precision: 0.5087 - val_recall: 1.0000 - val_f1_score: 0.6744 - lr: 0.0010\n",
      "Epoch 4/10\n",
      "333/333 [==============================] - 55s 166ms/step - loss: 0.1037 - accuracy: 0.9621 - precision: 0.9561 - recall: 0.9687 - f1_score: 0.9623 - val_loss: 144.0861 - val_accuracy: 0.5037 - val_precision: 0.5020 - val_recall: 0.9904 - val_f1_score: 0.6663 - lr: 0.0010\n",
      "Epoch 5/10\n",
      "333/333 [==============================] - 54s 162ms/step - loss: 0.0916 - accuracy: 0.9667 - precision: 0.9624 - recall: 0.9713 - f1_score: 0.9668 - val_loss: 0.4146 - val_accuracy: 0.9310 - val_precision: 0.8807 - val_recall: 0.9972 - val_f1_score: 0.9353 - lr: 0.0010\n",
      "Epoch 6/10\n",
      "333/333 [==============================] - 52s 157ms/step - loss: 0.0677 - accuracy: 0.9770 - precision: 0.9760 - recall: 0.9780 - f1_score: 0.9770 - val_loss: 0.3672 - val_accuracy: 0.9195 - val_precision: 0.8649 - val_recall: 0.9944 - val_f1_score: 0.9251 - lr: 0.0010\n",
      "Epoch 7/10\n",
      "333/333 [==============================] - 52s 156ms/step - loss: 0.0571 - accuracy: 0.9821 - precision: 0.9798 - recall: 0.9844 - f1_score: 0.9821 - val_loss: 4.1930 - val_accuracy: 0.6650 - val_precision: 0.6510 - val_recall: 0.7104 - val_f1_score: 0.6794 - lr: 0.0010\n",
      "Epoch 8/10\n",
      "333/333 [==============================] - 54s 161ms/step - loss: 0.0551 - accuracy: 0.9827 - precision: 0.9815 - recall: 0.9840 - f1_score: 0.9827 - val_loss: 0.4084 - val_accuracy: 0.9043 - val_precision: 0.9378 - val_recall: 0.8659 - val_f1_score: 0.9004 - lr: 0.0010\n",
      "Epoch 9/10\n",
      "333/333 [==============================] - 54s 164ms/step - loss: 0.0340 - accuracy: 0.9905 - precision: 0.9902 - recall: 0.9908 - f1_score: 0.9905 - val_loss: 0.4593 - val_accuracy: 0.9124 - val_precision: 0.8948 - val_recall: 0.9346 - val_f1_score: 0.9143 - lr: 0.0010\n",
      "Epoch 10/10\n",
      "333/333 [==============================] - 56s 168ms/step - loss: 0.0562 - accuracy: 0.9879 - precision: 0.9847 - recall: 0.9912 - f1_score: 0.9879 - val_loss: 2.6098 - val_accuracy: 0.8319 - val_precision: 0.9652 - val_recall: 0.6883 - val_f1_score: 0.8036 - lr: 0.0010\n",
      "\n",
      "Training dengan Optimizer: SGD, Learning Rate: 0.001\n",
      "Epoch 1/10\n",
      "333/333 [==============================] - 61s 164ms/step - loss: 1.9476 - accuracy: 0.8711 - precision: 0.8802 - recall: 0.8589 - f1_score: 0.8694 - val_loss: 2.1028 - val_accuracy: 0.8024 - val_precision: 0.7167 - val_recall: 1.0000 - val_f1_score: 0.8350 - lr: 0.0010\n",
      "Epoch 2/10\n",
      "333/333 [==============================] - 53s 160ms/step - loss: 1.8189 - accuracy: 0.9304 - precision: 0.9017 - recall: 0.9662 - f1_score: 0.9329 - val_loss: 1.9295 - val_accuracy: 0.9077 - val_precision: 0.8442 - val_recall: 1.0000 - val_f1_score: 0.9155 - lr: 0.0010\n",
      "Epoch 3/10\n",
      "333/333 [==============================] - 52s 158ms/step - loss: 1.7656 - accuracy: 0.9432 - precision: 0.9174 - recall: 0.9741 - f1_score: 0.9449 - val_loss: 1.8717 - val_accuracy: 0.9240 - val_precision: 0.8680 - val_recall: 1.0000 - val_f1_score: 0.9294 - lr: 0.0010\n",
      "Epoch 4/10\n",
      "333/333 [==============================] - 53s 158ms/step - loss: 1.7320 - accuracy: 0.9453 - precision: 0.9197 - recall: 0.9758 - f1_score: 0.9469 - val_loss: 1.7662 - val_accuracy: 0.9440 - val_precision: 0.9005 - val_recall: 0.9983 - val_f1_score: 0.9469 - lr: 0.0010\n",
      "Epoch 5/10\n",
      "333/333 [==============================] - 54s 162ms/step - loss: 1.6937 - accuracy: 0.9525 - precision: 0.9313 - recall: 0.9771 - f1_score: 0.9536 - val_loss: 1.7363 - val_accuracy: 0.9459 - val_precision: 0.9045 - val_recall: 0.9972 - val_f1_score: 0.9486 - lr: 0.0010\n",
      "Epoch 6/10\n",
      "333/333 [==============================] - 54s 162ms/step - loss: 1.6561 - accuracy: 0.9605 - precision: 0.9424 - recall: 0.9808 - f1_score: 0.9612 - val_loss: 1.6975 - val_accuracy: 0.9485 - val_precision: 0.9143 - val_recall: 0.9899 - val_f1_score: 0.9506 - lr: 0.0010\n",
      "Epoch 7/10\n",
      "333/333 [==============================] - 53s 159ms/step - loss: 1.6223 - accuracy: 0.9655 - precision: 0.9512 - recall: 0.9814 - f1_score: 0.9660 - val_loss: 1.6748 - val_accuracy: 0.9507 - val_precision: 0.9180 - val_recall: 0.9899 - val_f1_score: 0.9526 - lr: 0.0010\n",
      "Epoch 8/10\n",
      "333/333 [==============================] - 54s 162ms/step - loss: 1.5886 - accuracy: 0.9715 - precision: 0.9606 - recall: 0.9833 - f1_score: 0.9718 - val_loss: 1.6581 - val_accuracy: 0.9533 - val_precision: 0.9255 - val_recall: 0.9859 - val_f1_score: 0.9547 - lr: 0.0010\n",
      "Epoch 9/10\n",
      "333/333 [==============================] - 51s 153ms/step - loss: 1.5571 - accuracy: 0.9764 - precision: 0.9672 - recall: 0.9863 - f1_score: 0.9766 - val_loss: 1.6420 - val_accuracy: 0.9535 - val_precision: 0.9282 - val_recall: 0.9831 - val_f1_score: 0.9549 - lr: 0.0010\n",
      "Epoch 10/10\n",
      "333/333 [==============================] - 52s 156ms/step - loss: 1.5249 - accuracy: 0.9823 - precision: 0.9754 - recall: 0.9895 - f1_score: 0.9824 - val_loss: 1.6231 - val_accuracy: 0.9521 - val_precision: 0.9303 - val_recall: 0.9775 - val_f1_score: 0.9533 - lr: 0.0010\n",
      "\n",
      "Training dengan Optimizer: RMSPROP, Learning Rate: 0.001\n",
      "Epoch 1/10\n",
      "333/333 [==============================] - 63s 158ms/step - loss: 0.5093 - accuracy: 0.9268 - precision: 0.8902 - recall: 0.9735 - f1_score: 0.9300 - val_loss: 8533004.0000 - val_accuracy: 0.4994 - val_precision: 0.0000e+00 - val_recall: 0.0000e+00 - val_f1_score: 0.0000e+00 - lr: 0.0010\n",
      "Epoch 2/10\n",
      "333/333 [==============================] - 52s 156ms/step - loss: 0.2099 - accuracy: 0.9329 - precision: 0.8898 - recall: 0.9880 - f1_score: 0.9363 - val_loss: 664329.5625 - val_accuracy: 0.5003 - val_precision: 0.0000e+00 - val_recall: 0.0000e+00 - val_f1_score: 0.0000e+00 - lr: 0.0010\n",
      "Epoch 3/10\n",
      "333/333 [==============================] - 51s 155ms/step - loss: 0.1886 - accuracy: 0.9329 - precision: 0.8891 - recall: 0.9891 - f1_score: 0.9364 - val_loss: 481.2653 - val_accuracy: 0.5166 - val_precision: 0.9552 - val_recall: 0.0360 - val_f1_score: 0.0694 - lr: 0.0010\n",
      "Epoch 4/10\n",
      "333/333 [==============================] - 54s 162ms/step - loss: 0.1834 - accuracy: 0.9349 - precision: 0.8932 - recall: 0.9880 - f1_score: 0.9382 - val_loss: 17715.9961 - val_accuracy: 0.5003 - val_precision: 0.0000e+00 - val_recall: 0.0000e+00 - val_f1_score: 0.0000e+00 - lr: 0.0010\n",
      "Epoch 5/10\n",
      "333/333 [==============================] - 54s 161ms/step - loss: 0.1770 - accuracy: 0.9331 - precision: 0.8931 - recall: 0.9840 - f1_score: 0.9364 - val_loss: 7133.6035 - val_accuracy: 0.5000 - val_precision: 0.0000e+00 - val_recall: 0.0000e+00 - val_f1_score: 0.0000e+00 - lr: 0.0010\n",
      "Epoch 6/10\n",
      "333/333 [==============================] - 53s 161ms/step - loss: 0.1740 - accuracy: 0.9365 - precision: 0.8940 - recall: 0.9904 - f1_score: 0.9398 - val_loss: 25.8239 - val_accuracy: 0.7092 - val_precision: 0.9722 - val_recall: 0.4317 - val_f1_score: 0.5979 - lr: 0.0010\n",
      "Epoch 7/10\n",
      "333/333 [==============================] - 55s 164ms/step - loss: 0.1650 - accuracy: 0.9349 - precision: 0.8931 - recall: 0.9880 - f1_score: 0.9381 - val_loss: 1.6198 - val_accuracy: 0.7100 - val_precision: 0.8974 - val_recall: 0.4735 - val_f1_score: 0.6199 - lr: 0.0010\n",
      "Epoch 8/10\n",
      "333/333 [==============================] - 53s 158ms/step - loss: 0.1625 - accuracy: 0.9343 - precision: 0.8910 - recall: 0.9897 - f1_score: 0.9377 - val_loss: 30.8123 - val_accuracy: 0.6819 - val_precision: 0.6115 - val_recall: 0.9977 - val_f1_score: 0.7582 - lr: 0.0010\n",
      "Epoch 9/10\n",
      "333/333 [==============================] - 54s 162ms/step - loss: 0.1637 - accuracy: 0.9340 - precision: 0.8917 - recall: 0.9880 - f1_score: 0.9374 - val_loss: 1.7855 - val_accuracy: 0.9352 - val_precision: 0.8908 - val_recall: 0.9921 - val_f1_score: 0.9387 - lr: 0.0010\n",
      "Epoch 10/10\n",
      "333/333 [==============================] - 53s 159ms/step - loss: 0.1597 - accuracy: 0.9369 - precision: 0.8972 - recall: 0.9871 - f1_score: 0.9400 - val_loss: 0.3824 - val_accuracy: 0.8333 - val_precision: 0.9547 - val_recall: 0.6997 - val_f1_score: 0.8075 - lr: 0.0010\n",
      "\n",
      "Training dengan Optimizer: ADAM, Learning Rate: 0.0001\n",
      "Epoch 1/10\n",
      "333/333 [==============================] - 64s 163ms/step - loss: 1.7511 - accuracy: 0.8982 - precision: 0.9072 - recall: 0.8871 - f1_score: 0.8970 - val_loss: 2.4177 - val_accuracy: 0.5436 - val_precision: 0.5228 - val_recall: 1.0000 - val_f1_score: 0.6866 - lr: 1.0000e-04\n",
      "Epoch 2/10\n",
      "333/333 [==============================] - 54s 164ms/step - loss: 1.3968 - accuracy: 0.9545 - precision: 0.9332 - recall: 0.9790 - f1_score: 0.9555 - val_loss: 1.8747 - val_accuracy: 0.6906 - val_precision: 0.6175 - val_recall: 1.0000 - val_f1_score: 0.7635 - lr: 1.0000e-04\n",
      "Epoch 3/10\n",
      "333/333 [==============================] - 53s 159ms/step - loss: 1.1120 - accuracy: 0.9762 - precision: 0.9663 - recall: 0.9869 - f1_score: 0.9765 - val_loss: 2.3005 - val_accuracy: 0.6596 - val_precision: 0.5951 - val_recall: 1.0000 - val_f1_score: 0.7462 - lr: 1.0000e-04\n",
      "Epoch 4/10\n",
      "333/333 [==============================] - 54s 162ms/step - loss: 0.8727 - accuracy: 0.9895 - precision: 0.9876 - recall: 0.9914 - f1_score: 0.9895 - val_loss: 2.0112 - val_accuracy: 0.7697 - val_precision: 0.6848 - val_recall: 0.9994 - val_f1_score: 0.8127 - lr: 1.0000e-04\n",
      "Epoch 5/10\n",
      "333/333 [==============================] - 53s 158ms/step - loss: 0.6888 - accuracy: 0.9946 - precision: 0.9938 - recall: 0.9955 - f1_score: 0.9947 - val_loss: 1.0092 - val_accuracy: 0.9341 - val_precision: 0.8868 - val_recall: 0.9955 - val_f1_score: 0.9380 - lr: 1.0000e-04\n",
      "Epoch 6/10\n",
      "333/333 [==============================] - 52s 157ms/step - loss: 0.5386 - accuracy: 0.9962 - precision: 0.9962 - recall: 0.9961 - f1_score: 0.9961 - val_loss: 1.0596 - val_accuracy: 0.9254 - val_precision: 0.8718 - val_recall: 0.9978 - val_f1_score: 0.9305 - lr: 1.0000e-04\n",
      "Epoch 7/10\n",
      "333/333 [==============================] - 55s 164ms/step - loss: 0.4191 - accuracy: 0.9959 - precision: 0.9959 - recall: 0.9959 - f1_score: 0.9959 - val_loss: 0.7396 - val_accuracy: 0.9555 - val_precision: 0.9244 - val_recall: 0.9921 - val_f1_score: 0.9571 - lr: 1.0000e-04\n",
      "Epoch 8/10\n",
      "333/333 [==============================] - 54s 163ms/step - loss: 0.3225 - accuracy: 0.9962 - precision: 0.9953 - recall: 0.9972 - f1_score: 0.9963 - val_loss: 0.6046 - val_accuracy: 0.9558 - val_precision: 0.9262 - val_recall: 0.9904 - val_f1_score: 0.9573 - lr: 1.0000e-04\n",
      "Epoch 9/10\n",
      "333/333 [==============================] - 54s 163ms/step - loss: 0.2446 - accuracy: 0.9974 - precision: 0.9974 - recall: 0.9974 - f1_score: 0.9974 - val_loss: 0.6755 - val_accuracy: 0.9485 - val_precision: 0.9082 - val_recall: 0.9977 - val_f1_score: 0.9509 - lr: 1.0000e-04\n",
      "Epoch 10/10\n",
      "333/333 [==============================] - 55s 166ms/step - loss: 0.1870 - accuracy: 0.9970 - precision: 0.9968 - recall: 0.9972 - f1_score: 0.9970 - val_loss: 0.4580 - val_accuracy: 0.9569 - val_precision: 0.9282 - val_recall: 0.9904 - val_f1_score: 0.9583 - lr: 1.0000e-04\n",
      "\n",
      "Training dengan Optimizer: SGD, Learning Rate: 0.0001\n",
      "Epoch 1/10\n",
      "333/333 [==============================] - 59s 161ms/step - loss: 2.2015 - accuracy: 0.7987 - precision: 0.7848 - recall: 0.8231 - f1_score: 0.8035 - val_loss: 2.3421 - val_accuracy: 0.5377 - val_precision: 0.5199 - val_recall: 1.0000 - val_f1_score: 0.6841 - lr: 1.0000e-04\n",
      "Epoch 2/10\n",
      "333/333 [==============================] - 53s 160ms/step - loss: 2.0059 - accuracy: 0.8846 - precision: 0.8675 - recall: 0.9078 - f1_score: 0.8872 - val_loss: 2.2254 - val_accuracy: 0.6810 - val_precision: 0.6108 - val_recall: 1.0000 - val_f1_score: 0.7584 - lr: 1.0000e-04\n",
      "Epoch 3/10\n",
      "333/333 [==============================] - 54s 163ms/step - loss: 1.9366 - accuracy: 0.9085 - precision: 0.8879 - recall: 0.9353 - f1_score: 0.9110 - val_loss: 2.0554 - val_accuracy: 0.8618 - val_precision: 0.7839 - val_recall: 0.9989 - val_f1_score: 0.8784 - lr: 1.0000e-04\n",
      "Epoch 4/10\n",
      "333/333 [==============================] - 54s 163ms/step - loss: 1.9028 - accuracy: 0.9169 - precision: 0.8928 - recall: 0.9476 - f1_score: 0.9194 - val_loss: 1.9482 - val_accuracy: 0.9243 - val_precision: 0.8690 - val_recall: 0.9989 - val_f1_score: 0.9294 - lr: 1.0000e-04\n",
      "Epoch 5/10\n",
      "333/333 [==============================] - 55s 164ms/step - loss: 1.8919 - accuracy: 0.9201 - precision: 0.8954 - recall: 0.9514 - f1_score: 0.9225 - val_loss: 1.8897 - val_accuracy: 0.9367 - val_precision: 0.8886 - val_recall: 0.9983 - val_f1_score: 0.9403 - lr: 1.0000e-04\n",
      "Epoch 6/10\n",
      "333/333 [==============================] - 55s 165ms/step - loss: 1.8778 - accuracy: 0.9205 - precision: 0.8927 - recall: 0.9556 - f1_score: 0.9231 - val_loss: 1.8511 - val_accuracy: 0.9412 - val_precision: 0.8960 - val_recall: 0.9983 - val_f1_score: 0.9444 - lr: 1.0000e-04\n",
      "Epoch 7/10\n",
      "333/333 [==============================] - 53s 160ms/step - loss: 1.8600 - accuracy: 0.9274 - precision: 0.9004 - recall: 0.9611 - f1_score: 0.9297 - val_loss: 1.8384 - val_accuracy: 0.9414 - val_precision: 0.8969 - val_recall: 0.9978 - val_f1_score: 0.9447 - lr: 1.0000e-04\n",
      "Epoch 8/10\n",
      "333/333 [==============================] - 54s 162ms/step - loss: 1.8508 - accuracy: 0.9300 - precision: 0.9018 - recall: 0.9651 - f1_score: 0.9324 - val_loss: 1.8233 - val_accuracy: 0.9434 - val_precision: 0.9007 - val_recall: 0.9966 - val_f1_score: 0.9462 - lr: 1.0000e-04\n",
      "Epoch 9/10\n",
      "333/333 [==============================] - 55s 164ms/step - loss: 1.8427 - accuracy: 0.9294 - precision: 0.9052 - recall: 0.9592 - f1_score: 0.9314 - val_loss: 1.8151 - val_accuracy: 0.9431 - val_precision: 0.9007 - val_recall: 0.9961 - val_f1_score: 0.9460 - lr: 1.0000e-04\n",
      "Epoch 10/10\n",
      "333/333 [==============================] - 54s 161ms/step - loss: 1.8381 - accuracy: 0.9331 - precision: 0.9060 - recall: 0.9662 - f1_score: 0.9351 - val_loss: 1.8085 - val_accuracy: 0.9431 - val_precision: 0.9011 - val_recall: 0.9955 - val_f1_score: 0.9460 - lr: 1.0000e-04\n",
      "\n",
      "Training dengan Optimizer: RMSPROP, Learning Rate: 0.0001\n",
      "Epoch 1/10\n",
      "333/333 [==============================] - 60s 154ms/step - loss: 0.7804 - accuracy: 0.9329 - precision: 0.8951 - recall: 0.9806 - f1_score: 0.9359 - val_loss: 468.2654 - val_accuracy: 0.4997 - val_precision: 0.4996 - val_recall: 0.9989 - val_f1_score: 0.6660 - lr: 1.0000e-04\n",
      "Epoch 2/10\n",
      "333/333 [==============================] - 52s 156ms/step - loss: 0.1526 - accuracy: 0.9451 - precision: 0.9190 - recall: 0.9761 - f1_score: 0.9467 - val_loss: 177.0663 - val_accuracy: 0.5220 - val_precision: 0.5111 - val_recall: 1.0000 - val_f1_score: 0.6764 - lr: 1.0000e-04\n",
      "Epoch 3/10\n",
      "333/333 [==============================] - 54s 163ms/step - loss: 0.1192 - accuracy: 0.9526 - precision: 0.9374 - recall: 0.9700 - f1_score: 0.9534 - val_loss: 4.6142 - val_accuracy: 0.9071 - val_precision: 0.9319 - val_recall: 0.8784 - val_f1_score: 0.9044 - lr: 1.0000e-04\n",
      "Epoch 4/10\n",
      "333/333 [==============================] - 51s 155ms/step - loss: 0.0950 - accuracy: 0.9669 - precision: 0.9581 - recall: 0.9765 - f1_score: 0.9672 - val_loss: 2.0660 - val_accuracy: 0.9198 - val_precision: 0.9450 - val_recall: 0.8912 - val_f1_score: 0.9173 - lr: 1.0000e-04\n",
      "Epoch 5/10\n",
      "333/333 [==============================] - 52s 156ms/step - loss: 0.0707 - accuracy: 0.9767 - precision: 0.9724 - recall: 0.9812 - f1_score: 0.9768 - val_loss: 0.6240 - val_accuracy: 0.9428 - val_precision: 0.9245 - val_recall: 0.9645 - val_f1_score: 0.9441 - lr: 1.0000e-04\n",
      "Epoch 6/10\n",
      "333/333 [==============================] - 54s 162ms/step - loss: 0.0531 - accuracy: 0.9837 - precision: 0.9817 - recall: 0.9857 - f1_score: 0.9837 - val_loss: 1.9592 - val_accuracy: 0.9423 - val_precision: 0.8978 - val_recall: 0.9983 - val_f1_score: 0.9454 - lr: 1.0000e-04\n",
      "Epoch 7/10\n",
      "333/333 [==============================] - 57s 170ms/step - loss: 0.0426 - accuracy: 0.9857 - precision: 0.9846 - recall: 0.9868 - f1_score: 0.9857 - val_loss: 1.7615 - val_accuracy: 0.9046 - val_precision: 0.8430 - val_recall: 0.9944 - val_f1_score: 0.9125 - lr: 1.0000e-04\n",
      "Epoch 8/10\n",
      "333/333 [==============================] - 56s 167ms/step - loss: 0.0347 - accuracy: 0.9909 - precision: 0.9899 - recall: 0.9919 - f1_score: 0.9909 - val_loss: 3.5094 - val_accuracy: 0.8553 - val_precision: 0.7757 - val_recall: 0.9994 - val_f1_score: 0.8735 - lr: 1.0000e-04\n",
      "Epoch 9/10\n",
      "333/333 [==============================] - 55s 164ms/step - loss: 0.0313 - accuracy: 0.9912 - precision: 0.9904 - recall: 0.9919 - f1_score: 0.9912 - val_loss: 1.2026 - val_accuracy: 0.9434 - val_precision: 0.9033 - val_recall: 0.9932 - val_f1_score: 0.9461 - lr: 1.0000e-04\n",
      "Epoch 10/10\n",
      "333/333 [==============================] - ETA: 0s - loss: 0.0327 - accuracy: 0.9897 - precision: 0.9888 - recall: 0.9906 - f1_score: 0.9897\n",
      "Epoch 10: ReduceLROnPlateau reducing learning rate to 4.999999873689376e-05.\n",
      "333/333 [==============================] - 55s 165ms/step - loss: 0.0327 - accuracy: 0.9897 - precision: 0.9888 - recall: 0.9906 - f1_score: 0.9897 - val_loss: 0.7137 - val_accuracy: 0.9476 - val_precision: 0.9329 - val_recall: 0.9645 - val_f1_score: 0.9484 - lr: 1.0000e-04\n",
      "Epoch 10: early stopping\n",
      "\n",
      "Training dengan Optimizer: ADAM, Learning Rate: 1e-05\n",
      "Epoch 1/10\n",
      "333/333 [==============================] - 65s 167ms/step - loss: 2.0965 - accuracy: 0.8430 - precision: 0.8415 - recall: 0.8452 - f1_score: 0.8433 - val_loss: 2.5673 - val_accuracy: 0.5062 - val_precision: 0.5030 - val_recall: 1.0000 - val_f1_score: 0.6693 - lr: 1.0000e-05\n",
      "Epoch 2/10\n",
      "333/333 [==============================] - 54s 161ms/step - loss: 1.8641 - accuracy: 0.9172 - precision: 0.8947 - recall: 0.9458 - f1_score: 0.9196 - val_loss: 2.2701 - val_accuracy: 0.6349 - val_precision: 0.5781 - val_recall: 1.0000 - val_f1_score: 0.7326 - lr: 1.0000e-05\n",
      "Epoch 3/10\n",
      "333/333 [==============================] - 53s 161ms/step - loss: 1.8008 - accuracy: 0.9317 - precision: 0.9053 - recall: 0.9643 - f1_score: 0.9339 - val_loss: 1.9854 - val_accuracy: 0.8575 - val_precision: 0.7782 - val_recall: 1.0000 - val_f1_score: 0.8752 - lr: 1.0000e-05\n",
      "Epoch 4/10\n",
      "333/333 [==============================] - 52s 155ms/step - loss: 1.7552 - accuracy: 0.9372 - precision: 0.9099 - recall: 0.9705 - f1_score: 0.9392 - val_loss: 1.8118 - val_accuracy: 0.9296 - val_precision: 0.8772 - val_recall: 0.9989 - val_f1_score: 0.9341 - lr: 1.0000e-05\n",
      "Epoch 5/10\n",
      "333/333 [==============================] - 51s 153ms/step - loss: 1.7131 - accuracy: 0.9391 - precision: 0.9135 - recall: 0.9699 - f1_score: 0.9409 - val_loss: 1.7340 - val_accuracy: 0.9389 - val_precision: 0.8920 - val_recall: 0.9989 - val_f1_score: 0.9424 - lr: 1.0000e-05\n",
      "Epoch 6/10\n",
      "333/333 [==============================] - 53s 160ms/step - loss: 1.6671 - accuracy: 0.9462 - precision: 0.9213 - recall: 0.9758 - f1_score: 0.9478 - val_loss: 1.6703 - val_accuracy: 0.9451 - val_precision: 0.9048 - val_recall: 0.9949 - val_f1_score: 0.9477 - lr: 1.0000e-05\n",
      "Epoch 7/10\n",
      "333/333 [==============================] - 54s 163ms/step - loss: 1.6233 - accuracy: 0.9516 - precision: 0.9279 - recall: 0.9793 - f1_score: 0.9529 - val_loss: 1.6326 - val_accuracy: 0.9457 - val_precision: 0.9075 - val_recall: 0.9927 - val_f1_score: 0.9482 - lr: 1.0000e-05\n",
      "Epoch 8/10\n",
      "333/333 [==============================] - 54s 163ms/step - loss: 1.5864 - accuracy: 0.9531 - precision: 0.9312 - recall: 0.9786 - f1_score: 0.9543 - val_loss: 1.5937 - val_accuracy: 0.9459 - val_precision: 0.9125 - val_recall: 0.9865 - val_f1_score: 0.9480 - lr: 1.0000e-05\n",
      "Epoch 9/10\n",
      "333/333 [==============================] - 55s 164ms/step - loss: 1.5458 - accuracy: 0.9566 - precision: 0.9377 - recall: 0.9782 - f1_score: 0.9576 - val_loss: 1.5641 - val_accuracy: 0.9462 - val_precision: 0.9122 - val_recall: 0.9876 - val_f1_score: 0.9484 - lr: 1.0000e-05\n",
      "Epoch 10/10\n",
      "333/333 [==============================] - 55s 164ms/step - loss: 1.5037 - accuracy: 0.9605 - precision: 0.9429 - recall: 0.9803 - f1_score: 0.9612 - val_loss: 1.5355 - val_accuracy: 0.9474 - val_precision: 0.9144 - val_recall: 0.9870 - val_f1_score: 0.9493 - lr: 1.0000e-05\n",
      "\n",
      "Training dengan Optimizer: SGD, Learning Rate: 1e-05\n",
      "Epoch 1/10\n",
      "333/333 [==============================] - 60s 164ms/step - loss: 2.4426 - accuracy: 0.6260 - precision: 0.5947 - recall: 0.7925 - f1_score: 0.6795 - val_loss: 2.3400 - val_accuracy: 0.5943 - val_precision: 0.5706 - val_recall: 0.7606 - val_f1_score: 0.6520 - lr: 1.0000e-05\n",
      "Epoch 2/10\n",
      "333/333 [==============================] - 54s 162ms/step - loss: 2.3569 - accuracy: 0.5856 - precision: 0.5759 - recall: 0.6515 - f1_score: 0.6114 - val_loss: 2.3013 - val_accuracy: 0.6630 - val_precision: 0.6304 - val_recall: 0.7870 - val_f1_score: 0.7001 - lr: 1.0000e-05\n",
      "Epoch 3/10\n",
      "333/333 [==============================] - 54s 161ms/step - loss: 2.3062 - accuracy: 0.6436 - precision: 0.6358 - recall: 0.6725 - f1_score: 0.6536 - val_loss: 2.2543 - val_accuracy: 0.7461 - val_precision: 0.7031 - val_recall: 0.8519 - val_f1_score: 0.7704 - lr: 1.0000e-05\n",
      "Epoch 4/10\n",
      "333/333 [==============================] - 54s 161ms/step - loss: 2.2606 - accuracy: 0.6960 - precision: 0.6908 - recall: 0.7097 - f1_score: 0.7001 - val_loss: 2.2009 - val_accuracy: 0.8271 - val_precision: 0.7897 - val_recall: 0.8920 - val_f1_score: 0.8377 - lr: 1.0000e-05\n",
      "Epoch 5/10\n",
      "333/333 [==============================] - 55s 164ms/step - loss: 2.2223 - accuracy: 0.7362 - precision: 0.7296 - recall: 0.7498 - f1_score: 0.7395 - val_loss: 2.1496 - val_accuracy: 0.8826 - val_precision: 0.8497 - val_recall: 0.9296 - val_f1_score: 0.8879 - lr: 1.0000e-05\n",
      "Epoch 6/10\n",
      "333/333 [==============================] - 56s 169ms/step - loss: 2.1899 - accuracy: 0.7669 - precision: 0.7581 - recall: 0.7843 - f1_score: 0.7710 - val_loss: 2.1068 - val_accuracy: 0.9088 - val_precision: 0.8790 - val_recall: 0.9482 - val_f1_score: 0.9123 - lr: 1.0000e-05\n",
      "Epoch 7/10\n",
      "333/333 [==============================] - 54s 163ms/step - loss: 2.1595 - accuracy: 0.7944 - precision: 0.7859 - recall: 0.8092 - f1_score: 0.7974 - val_loss: 2.0706 - val_accuracy: 0.9198 - val_precision: 0.8884 - val_recall: 0.9600 - val_f1_score: 0.9228 - lr: 1.0000e-05\n",
      "Epoch 8/10\n",
      "333/333 [==============================] - 54s 162ms/step - loss: 2.1303 - accuracy: 0.8136 - precision: 0.8040 - recall: 0.8298 - f1_score: 0.8167 - val_loss: 2.0399 - val_accuracy: 0.9265 - val_precision: 0.8935 - val_recall: 0.9685 - val_f1_score: 0.9294 - lr: 1.0000e-05\n",
      "Epoch 9/10\n",
      "333/333 [==============================] - 53s 159ms/step - loss: 2.1083 - accuracy: 0.8314 - precision: 0.8178 - recall: 0.8528 - f1_score: 0.8349 - val_loss: 2.0150 - val_accuracy: 0.9293 - val_precision: 0.8953 - val_recall: 0.9724 - val_f1_score: 0.9323 - lr: 1.0000e-05\n",
      "Epoch 10/10\n",
      "333/333 [==============================] - 54s 162ms/step - loss: 2.0835 - accuracy: 0.8499 - precision: 0.8373 - recall: 0.8685 - f1_score: 0.8526 - val_loss: 1.9933 - val_accuracy: 0.9324 - val_precision: 0.8959 - val_recall: 0.9786 - val_f1_score: 0.9354 - lr: 1.0000e-05\n",
      "\n",
      "Training dengan Optimizer: RMSPROP, Learning Rate: 1e-05\n",
      "Epoch 1/10\n",
      "333/333 [==============================] - 62s 160ms/step - loss: 1.7497 - accuracy: 0.9163 - precision: 0.8889 - recall: 0.9515 - f1_score: 0.9191 - val_loss: 2.9000 - val_accuracy: 0.5231 - val_precision: 0.5117 - val_recall: 1.0000 - val_f1_score: 0.6770 - lr: 1.0000e-05\n",
      "Epoch 2/10\n",
      "333/333 [==============================] - 53s 160ms/step - loss: 1.3050 - accuracy: 0.9565 - precision: 0.9391 - recall: 0.9763 - f1_score: 0.9574 - val_loss: 3.4125 - val_accuracy: 0.5312 - val_precision: 0.5163 - val_recall: 1.0000 - val_f1_score: 0.6810 - lr: 1.0000e-05\n",
      "Epoch 3/10\n",
      "333/333 [==============================] - 56s 167ms/step - loss: 0.9600 - accuracy: 0.9784 - precision: 0.9720 - recall: 0.9852 - f1_score: 0.9785 - val_loss: 4.2759 - val_accuracy: 0.5397 - val_precision: 0.5204 - val_recall: 1.0000 - val_f1_score: 0.6845 - lr: 1.0000e-05\n",
      "Epoch 4/10\n",
      "333/333 [==============================] - 56s 167ms/step - loss: 0.6964 - accuracy: 0.9906 - precision: 0.9879 - recall: 0.9934 - f1_score: 0.9906 - val_loss: 2.6556 - val_accuracy: 0.7196 - val_precision: 0.6403 - val_recall: 1.0000 - val_f1_score: 0.7807 - lr: 1.0000e-05\n",
      "Epoch 5/10\n",
      "333/333 [==============================] - 52s 157ms/step - loss: 0.4975 - accuracy: 0.9945 - precision: 0.9927 - recall: 0.9962 - f1_score: 0.9945 - val_loss: 1.6809 - val_accuracy: 0.8685 - val_precision: 0.7921 - val_recall: 0.9994 - val_f1_score: 0.8838 - lr: 1.0000e-05\n",
      "Epoch 6/10\n",
      "333/333 [==============================] - 59s 176ms/step - loss: 0.3592 - accuracy: 0.9955 - precision: 0.9951 - recall: 0.9959 - f1_score: 0.9955 - val_loss: 1.2372 - val_accuracy: 0.9133 - val_precision: 0.8527 - val_recall: 0.9994 - val_f1_score: 0.9202 - lr: 1.0000e-05\n",
      "Epoch 7/10\n",
      "333/333 [==============================] - 54s 163ms/step - loss: 0.2519 - accuracy: 0.9978 - precision: 0.9972 - recall: 0.9985 - f1_score: 0.9978 - val_loss: 1.1903 - val_accuracy: 0.9336 - val_precision: 0.8828 - val_recall: 1.0000 - val_f1_score: 0.9377 - lr: 1.0000e-05\n",
      "Epoch 8/10\n",
      "333/333 [==============================] - 56s 168ms/step - loss: 0.1746 - accuracy: 0.9988 - precision: 0.9985 - recall: 0.9991 - f1_score: 0.9988 - val_loss: 0.7708 - val_accuracy: 0.9499 - val_precision: 0.9111 - val_recall: 0.9972 - val_f1_score: 0.9522 - lr: 1.0000e-05\n",
      "Epoch 9/10\n",
      "333/333 [==============================] - 54s 162ms/step - loss: 0.1244 - accuracy: 0.9983 - precision: 0.9979 - recall: 0.9987 - f1_score: 0.9983 - val_loss: 0.5883 - val_accuracy: 0.9533 - val_precision: 0.9179 - val_recall: 0.9955 - val_f1_score: 0.9551 - lr: 1.0000e-05\n",
      "Epoch 10/10\n",
      "333/333 [==============================] - 54s 163ms/step - loss: 0.0864 - accuracy: 0.9989 - precision: 0.9987 - recall: 0.9991 - f1_score: 0.9989 - val_loss: 0.6834 - val_accuracy: 0.9488 - val_precision: 0.9071 - val_recall: 1.0000 - val_f1_score: 0.9513 - lr: 1.0000e-05\n"
     ]
    }
   ],
   "source": [
    "# Inisialisasi hasil\n",
    "results = []\n",
    "\n",
    "# Loop melalui setiap kombinasi learning rate dan optimizer\n",
    "for lr in learning_rates:\n",
    "    for opt in optimizers:\n",
    "        print(f\"\\nTraining dengan Optimizer: {opt.upper()}, Learning Rate: {lr}\")\n",
    "\n",
    "        # Bangun model\n",
    "        model = build_model(IMG_SIZE)\n",
    "\n",
    "        # Pilih optimizer\n",
    "        if opt == 'adam':\n",
    "            optimizer = Adam(\n",
    "                learning_rate=lr, \n",
    "                beta_1=0.9,    \n",
    "                beta_2=0.999,   \n",
    "                epsilon=1e-7\n",
    "            )\n",
    "        elif opt == 'sgd':\n",
    "            optimizer = SGD(\n",
    "                learning_rate=lr, \n",
    "                momentum=0.9, \n",
    "                nesterov=True\n",
    "            )\n",
    "        elif opt == 'rmsprop':\n",
    "            optimizer = RMSprop(\n",
    "                learning_rate=lr, \n",
    "                rho=0.9,        \n",
    "                momentum=0.9,   \n",
    "                centered=True,\n",
    "                epsilon=1e-7\n",
    "            )\n",
    "        else:\n",
    "            raise ValueError(\"Optimizer tidak dikenali.\")\n",
    "\n",
    "        # Kompilasi model\n",
    "        model.compile(optimizer=optimizer,\n",
    "                      loss='binary_crossentropy',\n",
    "                      metrics=metrics)\n",
    "\n",
    "        # Siapkan callbacks\n",
    "        callbacks = get_callbacks()\n",
    "\n",
    "        # Training Time\n",
    "        start_time = time.time()\n",
    "\n",
    "        # Latih model\n",
    "        history = model.fit(\n",
    "            train_generator,\n",
    "            epochs=EPOCHS,\n",
    "            validation_data = validation_generator,\n",
    "            steps_per_epoch = train_generator.samples // BATCH_SIZE,\n",
    "            validation_steps = validation_generator.samples // BATCH_SIZE,\n",
    "            callbacks=callbacks,\n",
    "            verbose=1\n",
    "        )\n",
    "\n",
    "        end_time = time.time()\n",
    "        total_training_time = end_time - start_time\n",
    "        average_time_per_epoch = total_training_time / EPOCHS\n",
    "\n",
    "        # Evaluasi model pada data validation\n",
    "        val_result = model.evaluate(validation_generator, verbose=0, return_dict = True)\n",
    "\n",
    "        # Simpan hasil\n",
    "        results.append({\n",
    "            'optimizer': opt,\n",
    "            'learning_rate': lr,\n",
    "            'val_loss': val_result['loss'],\n",
    "            'val_accuracy': val_result['accuracy'],\n",
    "            'val_f1_score': val_result['f1_score'],\n",
    "            'total_training_time': total_training_time,\n",
    "            'average_time_per_epoch': average_time_per_epoch\n",
    "        })\n",
    "\n",
    "        # Hapus model untuk menghemat memori\n",
    "        tf.keras.backend.clear_session()"
   ]
  },
  {
   "cell_type": "code",
   "execution_count": 16,
   "metadata": {
    "id": "6ADOG9NScI0q"
   },
   "outputs": [
    {
     "name": "stdout",
     "output_type": "stream",
     "text": [
      "\n",
      "Hasil Hyperparameter Tuning:\n",
      "  optimizer  learning_rate  val_loss  val_accuracy  val_f1_score  \\\n",
      "0      adam        0.00100  2.623983      0.831836      0.803671   \n",
      "1       sgd        0.00100  1.622772      0.952274      0.953450   \n",
      "2   rmsprop        0.00100  0.381882      0.833520      0.807904   \n",
      "3      adam        0.00010  0.457177      0.957047      0.958435   \n",
      "4       sgd        0.00010  1.808155      0.943290      0.946105   \n",
      "5   rmsprop        0.00010  0.711860      0.947782      0.948647   \n",
      "6      adam        0.00001  1.535156      0.947501      0.949500   \n",
      "7       sgd        0.00001  1.993059      0.932622      0.935588   \n",
      "8   rmsprop        0.00001  0.687580      0.948624      0.951135   \n",
      "\n",
      "   total_training_time  average_time_per_epoch  \n",
      "0           599.044413               59.904441  \n",
      "1           537.001595               53.700159  \n",
      "2           541.719952               54.171995  \n",
      "3           549.321375               54.932137  \n",
      "4           545.700786               54.570079  \n",
      "5           545.144761               54.514476  \n",
      "6           546.098595               54.609859  \n",
      "7           547.225935               54.722594  \n",
      "8           556.410152               55.641015  \n",
      "\n",
      "Kombinasi terbaik:\n",
      "optimizer                       adam\n",
      "learning_rate                 0.0001\n",
      "val_loss                    0.457177\n",
      "val_accuracy                0.957047\n",
      "val_f1_score                0.958435\n",
      "total_training_time       549.321375\n",
      "average_time_per_epoch     54.932137\n",
      "Name: 3, dtype: object\n"
     ]
    }
   ],
   "source": [
    "# Konversi hasil ke DataFrame untuk analisis\n",
    "results_df = pd.DataFrame(results)\n",
    "\n",
    "# Tampilkan hasil\n",
    "print(\"\\nHasil Hyperparameter Tuning:\")\n",
    "print(results_df)\n",
    "\n",
    "# Temukan kombinasi terbaik\n",
    "best_result = results_df.sort_values(\n",
    "    by=['val_accuracy', 'val_f1_score', 'total_training_time'],\n",
    "    ascending=[False, False, True]\n",
    ").iloc[0]\n",
    "print(\"\\nKombinasi terbaik:\")\n",
    "print(best_result)"
   ]
  }
 ],
 "metadata": {
  "colab": {
   "provenance": []
  },
  "kernelspec": {
   "display_name": "Python 3 (ipykernel)",
   "language": "python",
   "name": "python3"
  },
  "language_info": {
   "codemirror_mode": {
    "name": "ipython",
    "version": 3
   },
   "file_extension": ".py",
   "mimetype": "text/x-python",
   "name": "python",
   "nbconvert_exporter": "python",
   "pygments_lexer": "ipython3",
   "version": "3.11.0rc1"
  }
 },
 "nbformat": 4,
 "nbformat_minor": 4
}
